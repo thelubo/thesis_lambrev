{
 "cells": [
  {
   "cell_type": "markdown",
   "metadata": {},
   "source": [
    "## Generation"
   ]
  },
  {
   "cell_type": "code",
   "execution_count": 1,
   "metadata": {},
   "outputs": [],
   "source": [
    "#%history -g \n",
    "\n"
   ]
  },
  {
   "cell_type": "code",
   "execution_count": 4,
   "metadata": {},
   "outputs": [],
   "source": [
    "from my_controller import naive_approach,fitting, utility\n",
    "import os\n",
    "os.getcwd() \n",
    "import random"
   ]
  },
  {
   "cell_type": "code",
   "execution_count": 5,
   "metadata": {},
   "outputs": [],
   "source": [
    "# number of series of applicants\n",
    "nsapp = 11\n",
    "\n",
    "#steps between serie sizes\n",
    "nsapp_step = 1\n",
    "\n",
    "#number of comptencies\n",
    "ncomp = 3\n"
   ]
  },
  {
   "cell_type": "code",
   "execution_count": 6,
   "metadata": {},
   "outputs": [],
   "source": [
    "#generate sets of n applicants and n jobs with ncopms competencies    \n",
    "def generate(n):\n",
    "    apps = {}\n",
    "    jobs = {}\n",
    "    for i in range(n):\n",
    "        key,val = gen_app(i)\n",
    "        apps[key] = val\n",
    "        key,val = gen_job(i)\n",
    "        jobs[key] = val\n",
    "    return apps, jobs\n",
    "\n",
    "def gen_app(i):\n",
    "   \n",
    "    key = 'applicant '+ str(i) \n",
    "    comps ={}\n",
    "    for j in range(1,ncomp):\n",
    "        comps['comp ' + str(j)] = (random.randint(0, 12))\n",
    "    return key, comps\n",
    "\n",
    "\n",
    "def gen_job(i):\n",
    "   \n",
    "    key = 'job '+ str(i) \n",
    "    comps ={}\n",
    "    for j in range(1,ncomp):\n",
    "        comps['comp ' + str(j)] = (random.randint(0, 12))\n",
    "    return key, comps"
   ]
  },
  {
   "cell_type": "code",
   "execution_count": 7,
   "metadata": {},
   "outputs": [
    {
     "name": "stdout",
     "output_type": "stream",
     "text": [
      "3\n",
      "4\n",
      "5\n",
      "6\n",
      "7\n",
      "8\n",
      "9\n",
      "10\n"
     ]
    }
   ],
   "source": [
    "job_series = []\n",
    "app_series = []\n",
    "for i in range(3,nsapp,nsapp_step):\n",
    "    print(i)\n",
    "    apps, jobs = generate(i)\n",
    "    job_series.append(jobs)\n",
    "    app_series.append(apps)\n"
   ]
  },
  {
   "cell_type": "code",
   "execution_count": 8,
   "metadata": {},
   "outputs": [],
   "source": [
    "#naive approach\n",
    "from itertools import permutations\n",
    "def bench_naive(app_serie,job_serie):\n",
    "    unique_applist=sorted(list(set(app_serie)))\n",
    "    unique_joblist=sorted(list(set(job_serie)))\n",
    "    uniq_app_perm =  list(permutations(unique_applist))\n",
    "\n",
    "    lst=[]\n",
    "    for i in uniq_app_perm:\n",
    "        lst.append(tuple(zip(i,unique_joblist)))\n",
    "    res, res_tpl = naive_approach(lst,app_serie,job_serie)\n",
    "    return res, res_tpl"
   ]
  },
  {
   "cell_type": "code",
   "execution_count": 9,
   "metadata": {},
   "outputs": [],
   "source": [
    "#linear sum assignment\n",
    "import numpy as np\n",
    "from scipy.optimize import linear_sum_assignment\n",
    "def bench_lsa(app_serie,job_serie):\n",
    "  \n",
    "    grades = {}\n",
    "    for i in app_serie:\n",
    "        grades[i] = {}\n",
    "        for j in job_serie:\n",
    "            grades[i][j] = fitting(tuple((i,j)),app_serie,job_serie)\n",
    "\n",
    "    m = np.array([[grades[app][job] for job in sorted(grades[app])] for app in sorted(grades)])\n",
    "    maxn = m.max() + 1.0\n",
    "    row_ind, col_ind = linear_sum_assignment(m, maximize=True)\n",
    "    sum_val = m[row_ind, col_ind].sum()\n",
    "    return sum_val, row_ind, col_ind"
   ]
  },
  {
   "cell_type": "code",
   "execution_count": 10,
   "metadata": {},
   "outputs": [],
   "source": [
    "#munkres\n",
    "from munkres import Munkres, print_matrix\n",
    "def bench_munkres(app_serie,my_new_df_jobs):\n",
    "    grades = {}\n",
    "    for i in app_serie:\n",
    "        grades[i] = {}\n",
    "        for j in job_serie:\n",
    "            grades[i][j] = fitting(tuple((i,j)),app_serie,job_serie)\n",
    "\n",
    "    m = np.array([[grades[app][job] for job in sorted(grades[app])] for app in sorted(grades)])\n",
    "    maxn = m.max() + 1.0\n",
    "    #print(maxn)\n",
    "    m_lst = (maxn -m).tolist()\n",
    "    munk = Munkres()\n",
    "\n",
    "    indexes = munk.compute(m_lst)\n",
    "    #print(indexes)\n",
    "    #print_matrix(m_lst, msg='Lowest cost through this matrix:')\n",
    "    total = 0\n",
    "    row_ind = []\n",
    "    col_ind = []\n",
    "    for row, column in indexes:\n",
    "        value = m_lst[row][column]\n",
    "        total += value\n",
    "        #print(f'({row}, {column}) -> {value}')\n",
    "        row_ind.append(row)\n",
    "        col_ind.append(column)\n",
    "    #print('total cost: ',total)\n",
    "    return total, row_ind, col_ind"
   ]
  },
  {
   "cell_type": "code",
   "execution_count": 11,
   "metadata": {},
   "outputs": [
    {
     "name": "stdout",
     "output_type": "stream",
     "text": [
      "8\n"
     ]
    }
   ],
   "source": [
    "# number of series\n",
    "n = len(job_series)\n",
    "print( n)\n",
    "\n",
    "#benchmark\n",
    "import time\n",
    "\n",
    "lst_n = []\n",
    "lst_naive = []\n",
    "lst_lsa = []\n",
    "lst_munkres = []\n",
    "\n",
    "for i in range(n):\n",
    "    app_serie = app_series[i]\n",
    "    job_serie = job_series[i]\n",
    "    lst_n.append(len(job_series[i]))\n",
    "    \n",
    "    t0 = time.time()\n",
    "    #print(app_serie)\n",
    "    _, _ = bench_naive(app_serie,job_serie)\n",
    "    t1 = time.time()\n",
    "    total = t1-t0\n",
    "    lst_naive.append(total)\n",
    "    \n",
    "    t0 = time.time()\n",
    "    _, _, _ = bench_lsa(app_serie,job_serie)\n",
    "    t1 = time.time()\n",
    "    total = t1-t0\n",
    "    lst_lsa.append(total)\n",
    "    \n",
    "    t0 = time.time()\n",
    "    _, _, _ = bench_munkres(app_serie,job_serie)\n",
    "    t1 = time.time()\n",
    "    total = t1-t0\n",
    "    lst_munkres.append(total)\n",
    "    \n",
    "    #print(job_series)\n",
    "    #print(app_series)"
   ]
  },
  {
   "cell_type": "code",
   "execution_count": 12,
   "metadata": {},
   "outputs": [
    {
     "name": "stdout",
     "output_type": "stream",
     "text": [
      "[3, 4, 5, 6, 7, 8, 9, 10]\n",
      "[0.0, 0.0, 0.0, 0.0, 0.03127288818359375, 0.3320882320404053, 3.251466751098633, 35.98654127120972]\n",
      "[0.0, 0.0, 0.0, 0.0, 0.0, 0.0, 0.0, 0.0]\n",
      "[0.0, 0.0, 0.0, 0.0, 0.0, 0.0, 0.0, 0.0]\n"
     ]
    }
   ],
   "source": [
    "print(lst_n)\n",
    "print(lst_naive)\n",
    "print(lst_munkres)\n",
    "print(lst_lsa)"
   ]
  },
  {
   "cell_type": "code",
   "execution_count": 13,
   "metadata": {
    "scrolled": true
   },
   "outputs": [
    {
     "data": {
      "image/png": "[encoded data removed]",
      "text/plain": [
       "<Figure size 432x288 with 1 Axes>"
      ]
     },
     "metadata": {
      "needs_background": "light"
     },
     "output_type": "display_data"
    }
   ],
   "source": [
    "import matplotlib.pyplot as plt\n",
    "\n",
    "plt.plot(lst_n, lst_naive, 'r',label = 'Naive Approach') # plotting t, a separately \n",
    "plt.plot(lst_n, lst_lsa, 'b',label='LSA') # plotting t, b separately \n",
    "plt.plot(lst_n, lst_munkres, 'g',label='Munkres') # plotting t, c separately \n",
    "plt.xlabel(\"Number of applicants\")\n",
    "plt.ylabel(\"Time(sec)\")\n",
    "plt.legend()\n",
    "plt.show()"
   ]
  },
  {
   "cell_type": "code",
   "execution_count": 14,
   "metadata": {},
   "outputs": [],
   "source": [
    "ngapp = 200\n",
    "ngapp_step = 20"
   ]
  },
  {
   "cell_type": "code",
   "execution_count": 15,
   "metadata": {},
   "outputs": [
    {
     "name": "stdout",
     "output_type": "stream",
     "text": [
      "3\n",
      "23\n",
      "43\n",
      "63\n",
      "83\n",
      "103\n",
      "123\n",
      "143\n",
      "163\n",
      "183\n"
     ]
    }
   ],
   "source": [
    "job_series = []\n",
    "app_series = []\n",
    "for i in range(3,ngapp,ngapp_step):\n",
    "    print(i)\n",
    "    apps, jobs = generate(i)\n",
    "    job_series.append(jobs)\n",
    "    app_series.append(apps)\n"
   ]
  },
  {
   "cell_type": "code",
   "execution_count": 16,
   "metadata": {},
   "outputs": [
    {
     "name": "stdout",
     "output_type": "stream",
     "text": [
      "10\n"
     ]
    }
   ],
   "source": [
    "n = len(job_series)\n",
    "print( n)\n",
    "import time\n",
    "\n",
    "lst_n = []\n",
    "lst_lsa = []\n",
    "lst_munkres = []\n",
    "\n",
    "for i in range(n):\n",
    "    app_serie = app_series[i]\n",
    "    job_serie = job_series[i]\n",
    "    lst_n.append(len(app_series[i]))\n",
    "    \n",
    "        \n",
    "    t0 = time.time()\n",
    "    _, _, _ = bench_lsa(app_serie,job_serie)\n",
    "    t1 = time.time()\n",
    "    total = t1-t0\n",
    "    lst_lsa.append(total)\n",
    "    \n",
    "    t0 = time.time()\n",
    "    _, _, _ = bench_munkres(app_serie,job_serie)\n",
    "    t1 = time.time()\n",
    "    total = t1-t0\n",
    "    lst_munkres.append(total)\n",
    "    "
   ]
  },
  {
   "cell_type": "code",
   "execution_count": 17,
   "metadata": {},
   "outputs": [
    {
     "name": "stdout",
     "output_type": "stream",
     "text": [
      "[3, 23, 43, 63, 83, 103, 123, 143, 163, 183]\n",
      "[0.0, 0.03126835823059082, 0.22669625282287598, 0.5337960720062256, 1.1145143508911133, 1.8032793998718262, 2.615251302719116, 4.1752214431762695, 5.669725179672241, 7.798307418823242]\n",
      "[0.0, 0.0, 0.015628576278686523, 0.008076906204223633, 0.010274887084960938, 0.010135173797607422, 0.020219802856445312, 0.020214319229125977, 0.038739681243896484, 0.04053997993469238]\n"
     ]
    }
   ],
   "source": [
    "print(lst_n)\n",
    "print(lst_munkres)\n",
    "print(lst_lsa)"
   ]
  },
  {
   "cell_type": "code",
   "execution_count": 18,
   "metadata": {},
   "outputs": [
    {
     "data": {
      "image/png": "[encoded data removed]",
      "text/plain": [
       "<Figure size 432x288 with 1 Axes>"
      ]
     },
     "metadata": {
      "needs_background": "light"
     },
     "output_type": "display_data"
    }
   ],
   "source": [
    "import matplotlib.pyplot as plt\n",
    "\n",
    "#plt.plot(lst_n, lst_naive, 'r') # plotting t, a separately \n",
    "plt.plot(lst_n, lst_lsa, 'b', label='LSA') # plotting t, b separately \n",
    "plt.plot(lst_n, lst_munkres, 'g', label = 'Munkres') # plotting t, c separately \n",
    "plt.xlabel(\"Number of applicants\")\n",
    "plt.ylabel(\"Time(sec)\")\n",
    "plt.legend()\n",
    "plt.show()"
   ]
  },
  {
   "cell_type": "code",
   "execution_count": null,
   "metadata": {},
   "outputs": [],
   "source": []
  },
  {
   "cell_type": "code",
   "execution_count": null,
   "metadata": {},
   "outputs": [],
   "source": []
  },
  {
   "cell_type": "code",
   "execution_count": null,
   "metadata": {},
   "outputs": [],
   "source": []
  }
 ],
 "metadata": {
  "kernelspec": {
   "display_name": "Python 3",
   "language": "python",
   "name": "python3"
  },
  "language_info": {
   "codemirror_mode": {
    "name": "ipython",
    "version": 3
   },
   "file_extension": ".py",
   "mimetype": "text/x-python",
   "name": "python",
   "nbconvert_exporter": "python",
   "pygments_lexer": "ipython3",
   "version": "3.8.3"
  }
 },
 "nbformat": 4,
 "nbformat_minor": 4
}
